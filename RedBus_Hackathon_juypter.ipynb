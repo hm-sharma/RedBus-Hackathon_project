{
 "cells": [
  {
   "cell_type": "code",
   "execution_count": 55,
   "id": "89c71ed6-379d-4721-b606-b6f4fb733267",
   "metadata": {},
   "outputs": [],
   "source": [
    "import pandas as pd\n",
    "import numpy as np\n",
    "import matplotlib.pyplot as plt\n",
    "import seaborn as sns"
   ]
  },
  {
   "cell_type": "code",
   "execution_count": 56,
   "id": "2b5e69f1-8e3a-4e30-bf53-aaffc418efe8",
   "metadata": {},
   "outputs": [],
   "source": [
    "train=pd.read_csv(r\"C:\\Users\\vinod\\ML\\Redbus Hackathon\\train.csv\")\n",
    "df=pd.read_csv(r\"C:\\Users\\vinod\\ML\\Redbus Hackathon\\transactions.csv\")\n",
    "test=pd.read_csv(r\"C:\\Users\\vinod\\ML\\Redbus Hackathon\\test_8gqdJqH.csv\")"
   ]
  },
  {
   "cell_type": "code",
   "execution_count": 57,
   "id": "f9209380-cf38-4357-aa5d-9f223805ce0e",
   "metadata": {},
   "outputs": [
    {
     "data": {
      "text/plain": [
       "(          doj  srcid  destid  final_seatcount\n",
       " 0  2023-03-01     45      46           2838.0\n",
       " 1  2023-03-01     46      45           2298.0\n",
       " 2  2023-03-01     45      47           2720.0\n",
       " 3  2023-03-01     47      45           2580.0\n",
       " 4  2023-03-01     46       9           4185.0,\n",
       " (67200, 4))"
      ]
     },
     "execution_count": 57,
     "metadata": {},
     "output_type": "execute_result"
    }
   ],
   "source": [
    "train.head(),train.shape"
   ]
  },
  {
   "cell_type": "code",
   "execution_count": 58,
   "id": "4f1a0221-f326-4e95-8e12-1ca373c45fb7",
   "metadata": {},
   "outputs": [
    {
     "data": {
      "text/plain": [
       "(          route_key         doj  srcid  destid\n",
       " 0  2025-02-11_46_45  2025-02-11     46      45\n",
       " 1  2025-01-20_17_23  2025-01-20     17      23\n",
       " 2  2025-01-08_02_14  2025-01-08      2      14\n",
       " 3  2025-01-08_08_47  2025-01-08      8      47\n",
       " 4  2025-01-08_09_46  2025-01-08      9      46,\n",
       " (5900, 4))"
      ]
     },
     "execution_count": 58,
     "metadata": {},
     "output_type": "execute_result"
    }
   ],
   "source": [
    "test.head(),test.shape"
   ]
  },
  {
   "cell_type": "code",
   "execution_count": 59,
   "id": "3928fb45-e1f6-4a2b-96f5-877e5fd5921f",
   "metadata": {},
   "outputs": [
    {
     "data": {
      "text/plain": [
       "(          doj         doi  srcid  destid    srcid_region   destid_region  \\\n",
       " 0  2023-03-01  2023-01-30     45      46       Karnataka      Tamil Nadu   \n",
       " 1  2023-03-01  2023-01-30     46      45      Tamil Nadu       Karnataka   \n",
       " 2  2023-03-01  2023-01-30     45      47       Karnataka  Andhra Pradesh   \n",
       " 3  2023-03-01  2023-01-30     47      45  Andhra Pradesh       Karnataka   \n",
       " 4  2023-03-01  2023-01-30     46       9      Tamil Nadu      Tamil Nadu   \n",
       " \n",
       "   srcid_tier destid_tier  cumsum_seatcount  cumsum_searchcount  dbd  \n",
       " 0     Tier 1      Tier 1               8.0                76.0   30  \n",
       " 1     Tier 1      Tier 1               8.0                70.0   30  \n",
       " 2     Tier 1      Tier 1               4.0               142.0   30  \n",
       " 3     Tier 1      Tier 1               0.0                68.0   30  \n",
       " 4     Tier 1       Tier2               9.0               162.0   30  ,\n",
       " (2266100, 11))"
      ]
     },
     "execution_count": 59,
     "metadata": {},
     "output_type": "execute_result"
    }
   ],
   "source": [
    "df.head(),df.shape"
   ]
  },
  {
   "cell_type": "code",
   "execution_count": 60,
   "id": "5b2e6887-0887-4f95-a72e-65d75ff08345",
   "metadata": {},
   "outputs": [],
   "source": [
    "df['route_key'] = df['doj'].astype(str) + '_' + df['srcid'].astype(str) + '_' + df['destid'].astype(str)\n",
    "train['route_key'] = train['doj'].astype(str) + '_' + train['srcid'].astype(str) + '_' + train['destid'].astype(str)"
   ]
  },
  {
   "cell_type": "code",
   "execution_count": 61,
   "id": "3f94a1fa-1ed2-487e-b96e-b2740a1883a6",
   "metadata": {},
   "outputs": [],
   "source": [
    "df=df.drop(['doj','srcid','destid'],axis=1)\n",
    "train=train.drop(['doj','srcid','destid'],axis=1)"
   ]
  },
  {
   "cell_type": "code",
   "execution_count": 62,
   "id": "ca12a023-007f-401f-bc48-ec28b5545285",
   "metadata": {},
   "outputs": [
    {
     "data": {
      "text/plain": [
       "((73100,), (67200,))"
      ]
     },
     "execution_count": 62,
     "metadata": {},
     "output_type": "execute_result"
    }
   ],
   "source": [
    "df['route_key'].unique().shape,train['route_key'].unique().shape"
   ]
  },
  {
   "cell_type": "code",
   "execution_count": 63,
   "id": "22e639bb-368b-4b9c-a660-b871a360f38e",
   "metadata": {},
   "outputs": [
    {
     "data": {
      "text/plain": [
       "(2083200, 10)"
      ]
     },
     "execution_count": 63,
     "metadata": {},
     "output_type": "execute_result"
    }
   ],
   "source": [
    "train_merged = pd.merge(train,df, on='route_key')\n",
    "train_merged.shape"
   ]
  },
  {
   "cell_type": "code",
   "execution_count": null,
   "id": "4c947d7b-f96c-4259-b0a1-b587f027aa66",
   "metadata": {},
   "outputs": [],
   "source": []
  },
  {
   "cell_type": "code",
   "execution_count": 64,
   "id": "cf0b684d-53ce-419f-b913-0d6a172998eb",
   "metadata": {},
   "outputs": [
    {
     "data": {
      "text/html": [
       "<div>\n",
       "<style scoped>\n",
       "    .dataframe tbody tr th:only-of-type {\n",
       "        vertical-align: middle;\n",
       "    }\n",
       "\n",
       "    .dataframe tbody tr th {\n",
       "        vertical-align: top;\n",
       "    }\n",
       "\n",
       "    .dataframe thead th {\n",
       "        text-align: right;\n",
       "    }\n",
       "</style>\n",
       "<table border=\"1\" class=\"dataframe\">\n",
       "  <thead>\n",
       "    <tr style=\"text-align: right;\">\n",
       "      <th></th>\n",
       "      <th>final_seatcount</th>\n",
       "      <th>route_key</th>\n",
       "      <th>doi</th>\n",
       "      <th>srcid_region</th>\n",
       "      <th>destid_region</th>\n",
       "      <th>srcid_tier</th>\n",
       "      <th>destid_tier</th>\n",
       "      <th>cumsum_seatcount</th>\n",
       "      <th>cumsum_searchcount</th>\n",
       "      <th>dbd</th>\n",
       "    </tr>\n",
       "  </thead>\n",
       "  <tbody>\n",
       "    <tr>\n",
       "      <th>1692599</th>\n",
       "      <td>1575.0</td>\n",
       "      <td>2024-08-27_19_30</td>\n",
       "      <td>2024-08-27</td>\n",
       "      <td>Madhya Pradesh</td>\n",
       "      <td>Maharashtra and Goa</td>\n",
       "      <td>Tier 1</td>\n",
       "      <td>Tier 1</td>\n",
       "      <td>1575.0</td>\n",
       "      <td>24040.0</td>\n",
       "      <td>0</td>\n",
       "    </tr>\n",
       "  </tbody>\n",
       "</table>\n",
       "</div>"
      ],
      "text/plain": [
       "         final_seatcount         route_key         doi    srcid_region  \\\n",
       "1692599           1575.0  2024-08-27_19_30  2024-08-27  Madhya Pradesh   \n",
       "\n",
       "               destid_region srcid_tier destid_tier  cumsum_seatcount  \\\n",
       "1692599  Maharashtra and Goa     Tier 1      Tier 1            1575.0   \n",
       "\n",
       "         cumsum_searchcount  dbd  \n",
       "1692599             24040.0    0  "
      ]
     },
     "execution_count": 64,
     "metadata": {},
     "output_type": "execute_result"
    }
   ],
   "source": [
    "train_merged.sample()"
   ]
  },
  {
   "cell_type": "code",
   "execution_count": 65,
   "id": "d6c4be37-1baf-4f99-aba5-5ae68fe2508b",
   "metadata": {},
   "outputs": [],
   "source": [
    "# from ydata_profiling import ProfileReport\n",
    "# prof=ProfileReport(df,explorative=True)\n",
    "# prof.to_file(output_file=\"EDA_Redbus1.html\")"
   ]
  },
  {
   "cell_type": "code",
   "execution_count": 66,
   "id": "b48b7e7e-4f7c-4e7d-a9e7-9a5a53c51fca",
   "metadata": {},
   "outputs": [
    {
     "data": {
      "text/html": [
       "<div>\n",
       "<style scoped>\n",
       "    .dataframe tbody tr th:only-of-type {\n",
       "        vertical-align: middle;\n",
       "    }\n",
       "\n",
       "    .dataframe tbody tr th {\n",
       "        vertical-align: top;\n",
       "    }\n",
       "\n",
       "    .dataframe thead th {\n",
       "        text-align: right;\n",
       "    }\n",
       "</style>\n",
       "<table border=\"1\" class=\"dataframe\">\n",
       "  <thead>\n",
       "    <tr style=\"text-align: right;\">\n",
       "      <th></th>\n",
       "      <th>doi</th>\n",
       "      <th>srcid_region</th>\n",
       "      <th>destid_region</th>\n",
       "      <th>srcid_tier</th>\n",
       "      <th>destid_tier</th>\n",
       "      <th>cumsum_seatcount</th>\n",
       "      <th>cumsum_searchcount</th>\n",
       "      <th>dbd</th>\n",
       "      <th>route_key</th>\n",
       "    </tr>\n",
       "  </thead>\n",
       "  <tbody>\n",
       "    <tr>\n",
       "      <th>1369661</th>\n",
       "      <td>2024-05-10</td>\n",
       "      <td>Andhra Pradesh</td>\n",
       "      <td>Andhra Pradesh</td>\n",
       "      <td>Tier 3</td>\n",
       "      <td>Tier 1</td>\n",
       "      <td>125.0</td>\n",
       "      <td>5545.0</td>\n",
       "      <td>5</td>\n",
       "      <td>2024-05-15_28_47</td>\n",
       "    </tr>\n",
       "    <tr>\n",
       "      <th>2083013</th>\n",
       "      <td>2024-12-30</td>\n",
       "      <td>Tamil Nadu</td>\n",
       "      <td>Tamil Nadu</td>\n",
       "      <td>Tier 1</td>\n",
       "      <td>Tier2</td>\n",
       "      <td>1032.0</td>\n",
       "      <td>33276.0</td>\n",
       "      <td>1</td>\n",
       "      <td>2024-12-31_46_35</td>\n",
       "    </tr>\n",
       "    <tr>\n",
       "      <th>1504194</th>\n",
       "      <td>2024-06-04</td>\n",
       "      <td>East 1</td>\n",
       "      <td>East 1</td>\n",
       "      <td>Tier 4</td>\n",
       "      <td>Tier2</td>\n",
       "      <td>5.0</td>\n",
       "      <td>80.0</td>\n",
       "      <td>24</td>\n",
       "      <td>2024-06-28_4_29</td>\n",
       "    </tr>\n",
       "    <tr>\n",
       "      <th>2061211</th>\n",
       "      <td>2024-12-22</td>\n",
       "      <td>Andhra Pradesh</td>\n",
       "      <td>Andhra Pradesh</td>\n",
       "      <td>Tier2</td>\n",
       "      <td>Tier 1</td>\n",
       "      <td>330.0</td>\n",
       "      <td>16440.0</td>\n",
       "      <td>2</td>\n",
       "      <td>2024-12-24_5_47</td>\n",
       "    </tr>\n",
       "    <tr>\n",
       "      <th>89850</th>\n",
       "      <td>2023-03-29</td>\n",
       "      <td>East 1</td>\n",
       "      <td>East 1</td>\n",
       "      <td>Tier2</td>\n",
       "      <td>Tier 1</td>\n",
       "      <td>1140.0</td>\n",
       "      <td>7128.0</td>\n",
       "      <td>0</td>\n",
       "      <td>2023-03-29_25_23</td>\n",
       "    </tr>\n",
       "  </tbody>\n",
       "</table>\n",
       "</div>"
      ],
      "text/plain": [
       "                doi    srcid_region   destid_region srcid_tier destid_tier  \\\n",
       "1369661  2024-05-10  Andhra Pradesh  Andhra Pradesh     Tier 3      Tier 1   \n",
       "2083013  2024-12-30      Tamil Nadu      Tamil Nadu     Tier 1       Tier2   \n",
       "1504194  2024-06-04          East 1          East 1     Tier 4       Tier2   \n",
       "2061211  2024-12-22  Andhra Pradesh  Andhra Pradesh      Tier2      Tier 1   \n",
       "89850    2023-03-29          East 1          East 1      Tier2      Tier 1   \n",
       "\n",
       "         cumsum_seatcount  cumsum_searchcount  dbd         route_key  \n",
       "1369661             125.0              5545.0    5  2024-05-15_28_47  \n",
       "2083013            1032.0             33276.0    1  2024-12-31_46_35  \n",
       "1504194               5.0                80.0   24   2024-06-28_4_29  \n",
       "2061211             330.0             16440.0    2   2024-12-24_5_47  \n",
       "89850              1140.0              7128.0    0  2023-03-29_25_23  "
      ]
     },
     "execution_count": 66,
     "metadata": {},
     "output_type": "execute_result"
    }
   ],
   "source": [
    "df.sample(5)"
   ]
  },
  {
   "cell_type": "code",
   "execution_count": 67,
   "id": "f287ca86-432a-41c6-be59-29e26197cbf6",
   "metadata": {},
   "outputs": [
    {
     "data": {
      "text/plain": [
       "((2083200, 10), (67200,))"
      ]
     },
     "execution_count": 67,
     "metadata": {},
     "output_type": "execute_result"
    }
   ],
   "source": [
    "df=train_merged\n",
    "df.shape,df['route_key'].unique().shape"
   ]
  },
  {
   "cell_type": "code",
   "execution_count": 68,
   "id": "a0e096aa-c7d6-4369-bb57-93943788a48c",
   "metadata": {},
   "outputs": [
    {
     "data": {
      "text/html": [
       "<div>\n",
       "<style scoped>\n",
       "    .dataframe tbody tr th:only-of-type {\n",
       "        vertical-align: middle;\n",
       "    }\n",
       "\n",
       "    .dataframe tbody tr th {\n",
       "        vertical-align: top;\n",
       "    }\n",
       "\n",
       "    .dataframe thead th {\n",
       "        text-align: right;\n",
       "    }\n",
       "</style>\n",
       "<table border=\"1\" class=\"dataframe\">\n",
       "  <thead>\n",
       "    <tr style=\"text-align: right;\">\n",
       "      <th></th>\n",
       "      <th>final_seatcount</th>\n",
       "      <th>route_key</th>\n",
       "      <th>doi</th>\n",
       "      <th>srcid_region</th>\n",
       "      <th>destid_region</th>\n",
       "      <th>srcid_tier</th>\n",
       "      <th>destid_tier</th>\n",
       "      <th>cumsum_seatcount</th>\n",
       "      <th>cumsum_searchcount</th>\n",
       "      <th>dbd</th>\n",
       "    </tr>\n",
       "  </thead>\n",
       "  <tbody>\n",
       "    <tr>\n",
       "      <th>412415</th>\n",
       "      <td>2632.0</td>\n",
       "      <td>2023-07-12_47_45</td>\n",
       "      <td>2023-07-04</td>\n",
       "      <td>Andhra Pradesh</td>\n",
       "      <td>Karnataka</td>\n",
       "      <td>Tier 1</td>\n",
       "      <td>Tier 1</td>\n",
       "      <td>74.0</td>\n",
       "      <td>1838.0</td>\n",
       "      <td>8</td>\n",
       "    </tr>\n",
       "    <tr>\n",
       "      <th>913400</th>\n",
       "      <td>117.0</td>\n",
       "      <td>2023-12-20_36_37</td>\n",
       "      <td>2023-12-06</td>\n",
       "      <td>Delhi</td>\n",
       "      <td>Rest of North</td>\n",
       "      <td>Tier2</td>\n",
       "      <td>Tier 1</td>\n",
       "      <td>0.0</td>\n",
       "      <td>87.0</td>\n",
       "      <td>14</td>\n",
       "    </tr>\n",
       "    <tr>\n",
       "      <th>1330342</th>\n",
       "      <td>3552.0</td>\n",
       "      <td>2024-05-03_45_28</td>\n",
       "      <td>2024-04-11</td>\n",
       "      <td>Karnataka</td>\n",
       "      <td>Andhra Pradesh</td>\n",
       "      <td>Tier 1</td>\n",
       "      <td>Tier 3</td>\n",
       "      <td>0.0</td>\n",
       "      <td>2052.0</td>\n",
       "      <td>22</td>\n",
       "    </tr>\n",
       "    <tr>\n",
       "      <th>453192</th>\n",
       "      <td>1232.0</td>\n",
       "      <td>2023-07-25_19_32</td>\n",
       "      <td>2023-06-28</td>\n",
       "      <td>Madhya Pradesh</td>\n",
       "      <td>Madhya Pradesh</td>\n",
       "      <td>Tier 1</td>\n",
       "      <td>Tier 1</td>\n",
       "      <td>0.0</td>\n",
       "      <td>52.0</td>\n",
       "      <td>27</td>\n",
       "    </tr>\n",
       "    <tr>\n",
       "      <th>640819</th>\n",
       "      <td>880.0</td>\n",
       "      <td>2023-09-23_27_36</td>\n",
       "      <td>2023-09-11</td>\n",
       "      <td>Rest of North</td>\n",
       "      <td>Delhi</td>\n",
       "      <td>Tier2</td>\n",
       "      <td>Tier2</td>\n",
       "      <td>0.0</td>\n",
       "      <td>775.0</td>\n",
       "      <td>12</td>\n",
       "    </tr>\n",
       "  </tbody>\n",
       "</table>\n",
       "</div>"
      ],
      "text/plain": [
       "         final_seatcount         route_key         doi    srcid_region  \\\n",
       "412415            2632.0  2023-07-12_47_45  2023-07-04  Andhra Pradesh   \n",
       "913400             117.0  2023-12-20_36_37  2023-12-06           Delhi   \n",
       "1330342           3552.0  2024-05-03_45_28  2024-04-11       Karnataka   \n",
       "453192            1232.0  2023-07-25_19_32  2023-06-28  Madhya Pradesh   \n",
       "640819             880.0  2023-09-23_27_36  2023-09-11   Rest of North   \n",
       "\n",
       "          destid_region srcid_tier destid_tier  cumsum_seatcount  \\\n",
       "412415        Karnataka     Tier 1      Tier 1              74.0   \n",
       "913400    Rest of North      Tier2      Tier 1               0.0   \n",
       "1330342  Andhra Pradesh     Tier 1      Tier 3               0.0   \n",
       "453192   Madhya Pradesh     Tier 1      Tier 1               0.0   \n",
       "640819            Delhi      Tier2       Tier2               0.0   \n",
       "\n",
       "         cumsum_searchcount  dbd  \n",
       "412415               1838.0    8  \n",
       "913400                 87.0   14  \n",
       "1330342              2052.0   22  \n",
       "453192                 52.0   27  \n",
       "640819                775.0   12  "
      ]
     },
     "execution_count": 68,
     "metadata": {},
     "output_type": "execute_result"
    }
   ],
   "source": [
    "df.sample(5)"
   ]
  },
  {
   "cell_type": "code",
   "execution_count": 69,
   "id": "2efce944-1b5e-4ee2-a39c-274e7dbf7e45",
   "metadata": {},
   "outputs": [
    {
     "data": {
      "text/plain": [
       "final_seatcount       0\n",
       "route_key             0\n",
       "doi                   0\n",
       "srcid_region          0\n",
       "destid_region         0\n",
       "srcid_tier            0\n",
       "destid_tier           0\n",
       "cumsum_seatcount      0\n",
       "cumsum_searchcount    0\n",
       "dbd                   0\n",
       "dtype: int64"
      ]
     },
     "execution_count": 69,
     "metadata": {},
     "output_type": "execute_result"
    }
   ],
   "source": [
    "df.isnull().sum()"
   ]
  },
  {
   "cell_type": "code",
   "execution_count": 70,
   "id": "b8a39ae9-fe03-4e62-a7e6-fa1a417b4386",
   "metadata": {},
   "outputs": [
    {
     "data": {
      "text/plain": [
       "0"
      ]
     },
     "execution_count": 70,
     "metadata": {},
     "output_type": "execute_result"
    }
   ],
   "source": [
    "df.duplicated().sum()"
   ]
  },
  {
   "cell_type": "code",
   "execution_count": 71,
   "id": "8addec92-dc86-41e9-9e06-792e8a9eff34",
   "metadata": {},
   "outputs": [
    {
     "data": {
      "text/plain": [
       "srcid_tier\n",
       "Tier 1    1229088\n",
       "Tier2      645792\n",
       "Tier 3     124992\n",
       "Tier 4      83328\n",
       "Name: count, dtype: int64"
      ]
     },
     "execution_count": 71,
     "metadata": {},
     "output_type": "execute_result"
    }
   ],
   "source": [
    "df['srcid_tier'].value_counts()"
   ]
  },
  {
   "cell_type": "code",
   "execution_count": 72,
   "id": "d71a1eed-fb70-478c-b4bf-179b63b2ca1f",
   "metadata": {},
   "outputs": [],
   "source": [
    "for i in range(1,5):\n",
    "  if(i==2):\n",
    "    df['srcid_tier']=df['srcid_tier'].replace(f\"Tier{i}\",i)\n",
    "    df['destid_tier']=df['destid_tier'].replace(f\"Tier{i}\",i)\n",
    "  else:\n",
    "    df['srcid_tier']=df['srcid_tier'].replace(f\"Tier {i}\",i)\n",
    "  df['destid_tier']=df['destid_tier'].replace(f\"Tier {i}\",i)"
   ]
  },
  {
   "cell_type": "code",
   "execution_count": 73,
   "id": "6a89b6ed-1f6d-4948-8769-7a77ea3eb23a",
   "metadata": {},
   "outputs": [
    {
     "name": "stdout",
     "output_type": "stream",
     "text": [
      "  srcid_region  srcid_region_encoded destid_region  destid_region_encoded\n",
      "0    Karnataka                     0    Tamil Nadu                      0\n",
      "1    Karnataka                     0    Tamil Nadu                      0\n",
      "2    Karnataka                     0    Tamil Nadu                      0\n",
      "3    Karnataka                     0    Tamil Nadu                      0\n",
      "4    Karnataka                     0    Tamil Nadu                      0\n"
     ]
    }
   ],
   "source": [
    "# # Converting Regions into Numerical Values\n",
    "src_regions = df['srcid_region'].unique()\n",
    "dest_regions = df['destid_region'].unique()\n",
    "\n",
    "# Create mappings\n",
    "src_region_map = {region: i for i, region in enumerate(src_regions)}\n",
    "dest_region_map = {region: i for i, region in enumerate(dest_regions)}\n",
    "\n",
    "# Apply mappings\n",
    "df['srcid_region_encoded'] = df['srcid_region'].map(src_region_map)\n",
    "df['destid_region_encoded'] = df['destid_region'].map(dest_region_map)\n",
    "\n",
    "# Display the first few rows to check the result\n",
    "print(df[['srcid_region', 'srcid_region_encoded', 'destid_region', 'destid_region_encoded']].head())"
   ]
  },
  {
   "cell_type": "code",
   "execution_count": 74,
   "id": "2576232c-629e-4c58-adc9-0af9d68b3c5b",
   "metadata": {},
   "outputs": [],
   "source": [
    "df = df.drop(['srcid_region', 'destid_region'], axis=1)"
   ]
  },
  {
   "cell_type": "code",
   "execution_count": 76,
   "id": "552e74d8-cc4c-4a51-99b8-2b009f5af5be",
   "metadata": {},
   "outputs": [
    {
     "data": {
      "text/html": [
       "<div>\n",
       "<style scoped>\n",
       "    .dataframe tbody tr th:only-of-type {\n",
       "        vertical-align: middle;\n",
       "    }\n",
       "\n",
       "    .dataframe tbody tr th {\n",
       "        vertical-align: top;\n",
       "    }\n",
       "\n",
       "    .dataframe thead th {\n",
       "        text-align: right;\n",
       "    }\n",
       "</style>\n",
       "<table border=\"1\" class=\"dataframe\">\n",
       "  <thead>\n",
       "    <tr style=\"text-align: right;\">\n",
       "      <th></th>\n",
       "      <th>final_seatcount</th>\n",
       "      <th>route_key</th>\n",
       "      <th>doi</th>\n",
       "      <th>srcid_tier</th>\n",
       "      <th>destid_tier</th>\n",
       "      <th>cumsum_seatcount</th>\n",
       "      <th>cumsum_searchcount</th>\n",
       "      <th>dbd</th>\n",
       "      <th>srcid_region_encoded</th>\n",
       "      <th>destid_region_encoded</th>\n",
       "    </tr>\n",
       "  </thead>\n",
       "  <tbody>\n",
       "    <tr>\n",
       "      <th>1903534</th>\n",
       "      <td>3858.0</td>\n",
       "      <td>2024-11-04_46_9</td>\n",
       "      <td>2024-10-15</td>\n",
       "      <td>1</td>\n",
       "      <td>2</td>\n",
       "      <td>57.0</td>\n",
       "      <td>2667.0</td>\n",
       "      <td>20</td>\n",
       "      <td>1</td>\n",
       "      <td>0</td>\n",
       "    </tr>\n",
       "    <tr>\n",
       "      <th>140327</th>\n",
       "      <td>1544.0</td>\n",
       "      <td>2023-04-15_12_36</td>\n",
       "      <td>2023-04-06</td>\n",
       "      <td>1</td>\n",
       "      <td>2</td>\n",
       "      <td>4.0</td>\n",
       "      <td>476.0</td>\n",
       "      <td>9</td>\n",
       "      <td>7</td>\n",
       "      <td>4</td>\n",
       "    </tr>\n",
       "    <tr>\n",
       "      <th>1956636</th>\n",
       "      <td>2000.0</td>\n",
       "      <td>2024-11-21_2_40</td>\n",
       "      <td>2024-10-31</td>\n",
       "      <td>1</td>\n",
       "      <td>1</td>\n",
       "      <td>12.0</td>\n",
       "      <td>2420.0</td>\n",
       "      <td>21</td>\n",
       "      <td>3</td>\n",
       "      <td>3</td>\n",
       "    </tr>\n",
       "    <tr>\n",
       "      <th>1192784</th>\n",
       "      <td>1185.0</td>\n",
       "      <td>2024-03-19_2_21</td>\n",
       "      <td>2024-03-17</td>\n",
       "      <td>1</td>\n",
       "      <td>2</td>\n",
       "      <td>90.0</td>\n",
       "      <td>2090.0</td>\n",
       "      <td>2</td>\n",
       "      <td>3</td>\n",
       "      <td>3</td>\n",
       "    </tr>\n",
       "    <tr>\n",
       "      <th>1850666</th>\n",
       "      <td>820.0</td>\n",
       "      <td>2024-10-17_38_36</td>\n",
       "      <td>2024-10-15</td>\n",
       "      <td>1</td>\n",
       "      <td>2</td>\n",
       "      <td>70.0</td>\n",
       "      <td>3055.0</td>\n",
       "      <td>2</td>\n",
       "      <td>4</td>\n",
       "      <td>4</td>\n",
       "    </tr>\n",
       "  </tbody>\n",
       "</table>\n",
       "</div>"
      ],
      "text/plain": [
       "         final_seatcount         route_key         doi  srcid_tier  \\\n",
       "1903534           3858.0   2024-11-04_46_9  2024-10-15           1   \n",
       "140327            1544.0  2023-04-15_12_36  2023-04-06           1   \n",
       "1956636           2000.0   2024-11-21_2_40  2024-10-31           1   \n",
       "1192784           1185.0   2024-03-19_2_21  2024-03-17           1   \n",
       "1850666            820.0  2024-10-17_38_36  2024-10-15           1   \n",
       "\n",
       "         destid_tier  cumsum_seatcount  cumsum_searchcount  dbd  \\\n",
       "1903534            2              57.0              2667.0   20   \n",
       "140327             2               4.0               476.0    9   \n",
       "1956636            1              12.0              2420.0   21   \n",
       "1192784            2              90.0              2090.0    2   \n",
       "1850666            2              70.0              3055.0    2   \n",
       "\n",
       "         srcid_region_encoded  destid_region_encoded  \n",
       "1903534                     1                      0  \n",
       "140327                      7                      4  \n",
       "1956636                     3                      3  \n",
       "1192784                     3                      3  \n",
       "1850666                     4                      4  "
      ]
     },
     "execution_count": 76,
     "metadata": {},
     "output_type": "execute_result"
    }
   ],
   "source": [
    "df.sample(5)"
   ]
  },
  {
   "cell_type": "code",
   "execution_count": null,
   "id": "8f5b5548-601e-471f-b99f-b212a7c10e1d",
   "metadata": {},
   "outputs": [],
   "source": []
  }
 ],
 "metadata": {
  "kernelspec": {
   "display_name": "Python 3 (ipykernel)",
   "language": "python",
   "name": "python3"
  },
  "language_info": {
   "codemirror_mode": {
    "name": "ipython",
    "version": 3
   },
   "file_extension": ".py",
   "mimetype": "text/x-python",
   "name": "python",
   "nbconvert_exporter": "python",
   "pygments_lexer": "ipython3",
   "version": "3.11.7"
  }
 },
 "nbformat": 4,
 "nbformat_minor": 5
}
